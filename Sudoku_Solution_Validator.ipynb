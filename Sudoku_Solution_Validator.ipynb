{
  "nbformat": 4,
  "nbformat_minor": 0,
  "metadata": {
    "colab": {
      "name": "Sudoku Solution Validator.ipynb",
      "provenance": [],
      "authorship_tag": "ABX9TyMjNq/fdg7UEvgfYgrPIx5t",
      "include_colab_link": true
    },
    "kernelspec": {
      "name": "python3",
      "display_name": "Python 3"
    }
  },
  "cells": [
    {
      "cell_type": "markdown",
      "metadata": {
        "id": "view-in-github",
        "colab_type": "text"
      },
      "source": [
        "<a href=\"https://colab.research.google.com/github/RamilSI/hello-world/blob/feature%2FTEST-1/Sudoku_Solution_Validator.ipynb\" target=\"_parent\"><img src=\"https://colab.research.google.com/assets/colab-badge.svg\" alt=\"Open In Colab\"/></a>"
      ]
    },
    {
      "cell_type": "code",
      "metadata": {
        "id": "3RQWScYr6hFT"
      },
      "source": [
        ""
      ],
      "execution_count": null,
      "outputs": []
    },
    {
      "cell_type": "markdown",
      "metadata": {
        "id": "VY8FmdGn6hmw"
      },
      "source": [
        "Судоку Фон Судоку - это игра, в которой используется сетка 9x9. Цель игры - заполнить все ячейки сетки цифрами от 1 до 9, чтобы каждый столбец, каждая строка и каждая из девяти подсеток 3x3 (также известных как блоки) содержали все цифры от 1 к 9. (Дополнительная информация: http://en.wikipedia.org/wiki/Sudoku)\n",
        "\n",
        "Валидатор решения судоку Напишите функцию validSolution / ValidateSolution / valid_solution (), которая принимает двумерный массив, представляющий доску для судоку, и возвращает true, если это допустимое решение, или false в противном случае. Ячейки доски судоку также могут содержать 0, что означает пустые ячейки. Доски, содержащие один или несколько нулей, считаются недействительными решениями.\n",
        "\n",
        "Доска всегда состоит из 9 ячеек на 9 ячеек, и каждая ячейка содержит только целые числа от 0 до 9.\n",
        "\n",
        "([ [5, 3, 4, 6, 7, 8, 9, 1, 2], [6, 7, 2, 1, 9, 5, 3, 4, 8], [1, 9, 8, 3, 4, 2, 5, 6, 7], [8, 5, 9, 7, 6, 1, 4, 2, 3], [4, 2, 6, 8, 5, 3, 7, 9, 1], [7, 1, 3, 9, 2, 4, 8, 5, 6], [9, 6, 1, 5, 3, 7, 2, 8, 4], [2, 8, 7, 4, 1, 9, 6, 3, 5], [3, 4, 5, 2, 8, 6, 1, 7, 9] ])"
      ]
    },
    {
      "cell_type": "code",
      "metadata": {
        "id": "DQrihNqY6mE6"
      },
      "source": [
        "import numpy as np"
      ],
      "execution_count": 2,
      "outputs": []
    },
    {
      "cell_type": "code",
      "metadata": {
        "id": "VDAedW9n6o4E"
      },
      "source": [
        "a1 = np.array([\n",
        "  [5, 3, 4, 6, 7, 8, 9, 1, 2],\n",
        "  [6, 7, 2, 1, 9, 5, 3, 4, 8],\n",
        "  [1, 9, 8, 3, 4, 2, 5, 6, 7],\n",
        "  [8, 5, 9, 7, 6, 1, 4, 2, 3],\n",
        "  [4, 2, 6, 8, 5, 3, 7, 9, 1],\n",
        "  [7, 1, 3, 9, 2, 4, 8, 5, 6],\n",
        "  [9, 6, 1, 5, 3, 7, 2, 8, 4],\n",
        "  [2, 8, 7, 4, 1, 9, 6, 3, 5],\n",
        "  [3, 4, 5, 2, 8, 6, 1, 7, 9]\n",
        "])"
      ],
      "execution_count": 52,
      "outputs": []
    },
    {
      "cell_type": "code",
      "metadata": {
        "colab": {
          "base_uri": "https://localhost:8080/"
        },
        "id": "NNR8b0qy92Wo",
        "outputId": "5adacdaf-f998-43ff-bda0-0cdf5e9afe42"
      },
      "source": [
        "(len(set(a1[0,:]))==9 & len(set(a1[:,0]))==9)\n",
        "set(a1[0,:]) == s & set(a1[:,0]) == s\n"
      ],
      "execution_count": 47,
      "outputs": [
        {
          "output_type": "execute_result",
          "data": {
            "text/plain": [
              "True"
            ]
          },
          "metadata": {
            "tags": []
          },
          "execution_count": 47
        }
      ]
    },
    {
      "cell_type": "code",
      "metadata": {
        "colab": {
          "base_uri": "https://localhost:8080/"
        },
        "id": "Dr398N36mt2N",
        "outputId": "bd4f9d61-7259-4d5f-955c-07c75ed48eee"
      },
      "source": [
        "set(a1[1,:]) == s\n"
      ],
      "execution_count": 30,
      "outputs": [
        {
          "output_type": "execute_result",
          "data": {
            "text/plain": [
              "True"
            ]
          },
          "metadata": {
            "tags": []
          },
          "execution_count": 30
        }
      ]
    },
    {
      "cell_type": "code",
      "metadata": {
        "colab": {
          "base_uri": "https://localhost:8080/"
        },
        "id": "32T9PbNugtK_",
        "outputId": "0a99906e-3c90-4bfc-efa5-fa9d1d05d0e4"
      },
      "source": [
        "a2 = np.random.randint(5,6,(9,9))\n",
        "a2"
      ],
      "execution_count": 50,
      "outputs": [
        {
          "output_type": "execute_result",
          "data": {
            "text/plain": [
              "array([[5, 5, 5, 5, 5, 5, 5, 5, 5],\n",
              "       [5, 5, 5, 5, 5, 5, 5, 5, 5],\n",
              "       [5, 5, 5, 5, 5, 5, 5, 5, 5],\n",
              "       [5, 5, 5, 5, 5, 5, 5, 5, 5],\n",
              "       [5, 5, 5, 5, 5, 5, 5, 5, 5],\n",
              "       [5, 5, 5, 5, 5, 5, 5, 5, 5],\n",
              "       [5, 5, 5, 5, 5, 5, 5, 5, 5],\n",
              "       [5, 5, 5, 5, 5, 5, 5, 5, 5],\n",
              "       [5, 5, 5, 5, 5, 5, 5, 5, 5]])"
            ]
          },
          "metadata": {
            "tags": []
          },
          "execution_count": 50
        }
      ]
    },
    {
      "cell_type": "code",
      "metadata": {
        "colab": {
          "base_uri": "https://localhost:8080/"
        },
        "id": "E4Ovvb-9z29v",
        "outputId": "667f0c62-0fb8-48e5-f356-58032657e7d6"
      },
      "source": [
        "a2[0,0]!=a2[0,1]"
      ],
      "execution_count": 130,
      "outputs": [
        {
          "output_type": "execute_result",
          "data": {
            "text/plain": [
              "False"
            ]
          },
          "metadata": {
            "tags": []
          },
          "execution_count": 130
        }
      ]
    },
    {
      "cell_type": "code",
      "metadata": {
        "colab": {
          "base_uri": "https://localhost:8080/"
        },
        "id": "DuJ5_7wL4Yrn",
        "outputId": "fdb574aa-5e14-4fe9-9a30-f30de82341d8"
      },
      "source": [
        "a2[a2!=5]"
      ],
      "execution_count": 110,
      "outputs": [
        {
          "output_type": "execute_result",
          "data": {
            "text/plain": [
              "array([], dtype=int64)"
            ]
          },
          "metadata": {
            "tags": []
          },
          "execution_count": 110
        }
      ]
    },
    {
      "cell_type": "code",
      "metadata": {
        "colab": {
          "base_uri": "https://localhost:8080/"
        },
        "id": "9jW7hlof4Dee",
        "outputId": "129e7e69-8dfb-45ce-837f-c8b476529c2f"
      },
      "source": [
        "np.sum(a2)"
      ],
      "execution_count": 103,
      "outputs": [
        {
          "output_type": "execute_result",
          "data": {
            "text/plain": [
              "405"
            ]
          },
          "metadata": {
            "tags": []
          },
          "execution_count": 103
        }
      ]
    },
    {
      "cell_type": "code",
      "metadata": {
        "id": "t0ldYsMr9jhX"
      },
      "source": [
        "# import numpy as np\n",
        "# def valid_solution(board):\n",
        "#     if np.sum(board) == 405:\n",
        "#         k=1\n",
        "#         a = np.array(board)\n",
        "#         if len(set(a[0,:]))==9:\n",
        "#             for i in range(a.shape[0]):\n",
        "#                 k *= (set(a[:,i])==set(a[i,:]))\n",
        "#             return bool(k)\n",
        "#         else: \n",
        "#             return False\n",
        "#     else:\n",
        "#         return False"
      ],
      "execution_count": 131,
      "outputs": []
    },
    {
      "cell_type": "code",
      "metadata": {
        "id": "fabXMILBhsRp"
      },
      "source": [
        "import numpy as np\n",
        "def valid_solution(board):\n",
        "    s = {1,2,3,4,5,6,7,8,9}\n",
        "    if np.sum(board) == 405:\n",
        "        k=1\n",
        "        a = np.array(board)\n",
        "        for i in range(a.shape[0]):\n",
        "          \n",
        "          if len(set(a[i,:]))==9 & len(set(a[:,i]))==9:\n",
        "            if set(a[i,:]) == set(a[:,i]) == s:\n",
        "              k *= (set(a[:,i])==set(a[i,:]))\n",
        "              return bool(k)\n",
        "            else:\n",
        "              return False\n",
        "          else: \n",
        "            return False\n",
        "    else:\n",
        "        return False"
      ],
      "execution_count": 73,
      "outputs": []
    },
    {
      "cell_type": "code",
      "metadata": {
        "colab": {
          "base_uri": "https://localhost:8080/"
        },
        "id": "EvXRn0fIDABl",
        "outputId": "e381909e-0cb8-4bbe-c3ee-0ea9dd3577f0"
      },
      "source": [
        "valid_solution(a1)"
      ],
      "execution_count": 55,
      "outputs": [
        {
          "output_type": "stream",
          "text": [
            "0\n"
          ],
          "name": "stdout"
        },
        {
          "output_type": "execute_result",
          "data": {
            "text/plain": [
              "True"
            ]
          },
          "metadata": {
            "tags": []
          },
          "execution_count": 55
        }
      ]
    },
    {
      "cell_type": "code",
      "metadata": {
        "id": "SGDCdipeFOSL"
      },
      "source": [
        "b2 = np.array([\n",
        "               [1, 3, 2, 5, 7, 9, 4, 6, 8], \n",
        "                [4, 9, 8, 2, 6, 1, 3, 7, 5], \n",
        "                [7, 5, 6, 3, 8, 4, 2, 1, 9],\n",
        "                [6, 4, 3, 1, 5, 8, 7, 9, 2], \n",
        "                [5, 2, 1, 7, 9, 3, 8, 4, 6], \n",
        "                [9, 8, 7, 4, 2, 6, 5, 3, 1], \n",
        "                [2, 1, 4, 9, 3, 5, 6, 8, 7], \n",
        "                [3, 6, 5, 8, 1, 7, 9, 2, 4], \n",
        "                [8, 7, 9, 6, 4, 2, 1, 3, 5]\n",
        "]) "
      ],
      "execution_count": 6,
      "outputs": []
    },
    {
      "cell_type": "code",
      "metadata": {
        "colab": {
          "base_uri": "https://localhost:8080/"
        },
        "id": "k06nAv0JhMwH",
        "outputId": "4398666c-dd0e-4e01-f360-a9fe6abb17a2"
      },
      "source": [
        "s = {1,2,3,4,5,6,7,8,9}\n",
        "len(set(b2[0,:]))==9\n",
        "set(b2[1,:])==s\n"
      ],
      "execution_count": 18,
      "outputs": [
        {
          "output_type": "execute_result",
          "data": {
            "text/plain": [
              "True"
            ]
          },
          "metadata": {
            "tags": []
          },
          "execution_count": 18
        }
      ]
    },
    {
      "cell_type": "code",
      "metadata": {
        "colab": {
          "base_uri": "https://localhost:8080/"
        },
        "id": "53ZQl52DGAE1",
        "outputId": "47002c5b-82a6-49dc-e79a-0f4661f9e09f"
      },
      "source": [
        "valid_solution(a1)"
      ],
      "execution_count": 57,
      "outputs": [
        {
          "output_type": "stream",
          "text": [
            "0\n"
          ],
          "name": "stdout"
        },
        {
          "output_type": "execute_result",
          "data": {
            "text/plain": [
              "True"
            ]
          },
          "metadata": {
            "tags": []
          },
          "execution_count": 57
        }
      ]
    },
    {
      "cell_type": "code",
      "metadata": {
        "id": "ELnscvFWCM3a"
      },
      "source": [
        "a3 = np.array([\n",
        "[1, 2, 3, 4, 5, 6, 7, 8, 9],\n",
        "[2, 3, 4, 5, 6, 7, 8, 9, 1],\n",
        "[3, 4, 5, 6, 7, 8, 9, 1, 2],\n",
        "[4, 5, 6, 7, 8, 9, 1, 2, 3],\n",
        "[5, 6, 7, 8, 9, 1, 2, 3, 4],\n",
        "[6, 7, 8, 9, 1, 2, 3, 4, 5],\n",
        "[7, 8, 9, 1, 2, 3, 4, 5, 6],\n",
        "[8, 9, 1, 2, 3, 4, 5, 6, 7],\n",
        "[9, 1, 2, 3, 4, 5, 6, 7, 8]\n",
        "]) "
      ],
      "execution_count": 71,
      "outputs": []
    },
    {
      "cell_type": "code",
      "metadata": {
        "colab": {
          "base_uri": "https://localhost:8080/"
        },
        "id": "8AL7eeNOHk0d",
        "outputId": "8ce4d351-0940-431c-8ba8-2742368a90a7"
      },
      "source": [
        "valid_solution(a3)"
      ],
      "execution_count": 75,
      "outputs": [
        {
          "output_type": "execute_result",
          "data": {
            "text/plain": [
              "True"
            ]
          },
          "metadata": {
            "tags": []
          },
          "execution_count": 75
        }
      ]
    },
    {
      "cell_type": "code",
      "metadata": {
        "id": "DXU1QPyNIeP_"
      },
      "source": [
        "a4 = np.array([\n",
        "[5, 3, 4, 6, 7, 8, 9, 1, 2],\n",
        "[3, 7, 2, 1, 9, 5, 3, 4, 8],\n",
        "[4, 2, 8, 3, 4, 2, 5, 6, 7],\n",
        "[6, 1, 3, 7, 6, 1, 4, 2, 3],\n",
        "[7, 9, 4, 6, 5, 3, 7, 9, 1],\n",
        "[8, 5, 2, 1, 3, 4, 8, 5, 6],\n",
        "[9, 3, 5, 4, 7, 8, 2, 8, 4],\n",
        "[1, 4, 6, 2, 9, 5, 8, 3, 5],\n",
        "[2, 8, 7, 3, 1, 6, 4, 5, 9]\n",
        "]) "
      ],
      "execution_count": 69,
      "outputs": []
    },
    {
      "cell_type": "code",
      "metadata": {
        "colab": {
          "base_uri": "https://localhost:8080/"
        },
        "id": "uAVfS8b8JVlj",
        "outputId": "949340a0-23a7-4689-eff2-c5219eb96740"
      },
      "source": [
        "valid_solution(a4)"
      ],
      "execution_count": 74,
      "outputs": [
        {
          "output_type": "execute_result",
          "data": {
            "text/plain": [
              "False"
            ]
          },
          "metadata": {
            "tags": []
          },
          "execution_count": 74
        }
      ]
    }
  ]
}